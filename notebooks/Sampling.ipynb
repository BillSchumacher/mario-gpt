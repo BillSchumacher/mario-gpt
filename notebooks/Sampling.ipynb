{
 "cells": [
  {
   "cell_type": "markdown",
   "id": "df85b023-cdb5-498e-8373-0fd5b7c31853",
   "metadata": {},
   "source": [
    "## Load Stuff"
   ]
  },
  {
   "cell_type": "code",
   "execution_count": 1,
   "id": "895fc851-817b-4c23-baf4-72cf73238781",
   "metadata": {},
   "outputs": [],
   "source": [
    "import torch\n",
    "from mario_gpt.dataset import MarioDataset\n",
    "from mario_gpt.prompter import Prompter\n",
    "from mario_gpt.lm import MarioLM\n",
    "from mario_gpt.utils import view_level, convert_level_to_png"
   ]
  },
  {
   "cell_type": "markdown",
   "id": "28c11f07-b604-4603-8fe3-d53874ba02a8",
   "metadata": {},
   "source": [
    "### Load Model"
   ]
  },
  {
   "cell_type": "code",
   "execution_count": 2,
   "id": "6f656e57-24a6-4624-b6ed-8aa871581007",
   "metadata": {},
   "outputs": [
    {
     "name": "stdout",
     "output_type": "stream",
     "text": [
      "Using shyamsn97/Mario-GPT2-700-context-length model\n"
     ]
    },
    {
     "name": "stderr",
     "output_type": "stream",
     "text": [
      "/home/kokkgoblin/miniconda3/envs/py39/lib/python3.9/site-packages/transformers/models/auto/modeling_auto.py:1177: FutureWarning: The class `AutoModelWithLMHead` is deprecated and will be removed in a future version. Please use `AutoModelForCausalLM` for causal language models, `AutoModelForMaskedLM` for masked language models and `AutoModelForSeq2SeqLM` for encoder-decoder models.\n",
      "  warnings.warn(\n"
     ]
    },
    {
     "name": "stdout",
     "output_type": "stream",
     "text": [
      "Using shyamsn97/Mario-GPT2-700-context-length tokenizer\n"
     ]
    }
   ],
   "source": [
    "mario_lm = MarioLM()"
   ]
  },
  {
   "cell_type": "code",
   "execution_count": 3,
   "id": "1a60f6ed-42be-4d17-af15-151fa24e0f91",
   "metadata": {},
   "outputs": [],
   "source": [
    "TILE_DIR = \"../data/tiles\""
   ]
  },
  {
   "cell_type": "markdown",
   "id": "a7d7bd55-14d4-45a3-9539-c7c385f63070",
   "metadata": {},
   "source": [
    "### Load Dataset (Optional)"
   ]
  },
  {
   "cell_type": "code",
   "execution_count": 4,
   "id": "6c0840d0-ea5b-4111-9198-6b5a716083bd",
   "metadata": {},
   "outputs": [
    {
     "name": "stdout",
     "output_type": "stream",
     "text": [
      "No level string specified, using default string FULL_LEVEL_STR_WITH_PATHS...\n",
      "\n",
      "\n",
      "\n"
     ]
    },
    {
     "name": "stderr",
     "output_type": "stream",
     "text": [
      "Token indices sequence length is longer than the specified maximum sequence length for this model (102116 > 1024). Running this sequence through the model will result in indexing errors\n"
     ]
    }
   ],
   "source": [
    "dataset = MarioDataset(mario_lm.tokenizer)"
   ]
  },
  {
   "cell_type": "markdown",
   "id": "c80a131f-c68f-475d-ab24-acd3da814c39",
   "metadata": {},
   "source": [
    "#### View string representation of level"
   ]
  },
  {
   "cell_type": "code",
   "execution_count": 5,
   "id": "2bdab45e-58cb-4bcb-8d6e-dee6c946d6fd",
   "metadata": {},
   "outputs": [
    {
     "data": {
      "text/plain": [
       "['--------------------------------------------------',\n",
       " '--------------------------------------------------',\n",
       " '--------------------------------------------------',\n",
       " '--------------------------------------------------',\n",
       " '-------------------------------------------------o',\n",
       " '--------XSSSSS---------------------------------SSS',\n",
       " '--------X-----------------------------------------',\n",
       " '--------X-----------------------------------------',\n",
       " '-------EX--E-X---------------xxxx-?-----------xxxx',\n",
       " '--------XSS?SX---QQ?QQ------xx<>-x-----------xx--?',\n",
       " '---------------------------xx-[]--x---------xx----',\n",
       " '--------------------------xx--[]---x-------xx-----',\n",
       " 'xxxxxxxxxxxxxxxxxxxxxxxxxxx---[]----xxxxxxxx------',\n",
       " 'XXXXXXXXXXXXXXXXXXXXXXXXXXXXXXXXXXXXXXXXXXXX---XXX']"
      ]
     },
     "execution_count": 5,
     "metadata": {},
     "output_type": "execute_result"
    }
   ],
   "source": [
    "view_level(dataset.input_ids[:700], mario_lm.tokenizer)"
   ]
  },
  {
   "cell_type": "markdown",
   "id": "99be5b3a-c968-4fbd-a51a-f623003072c0",
   "metadata": {},
   "source": [
    "#### Image"
   ]
  },
  {
   "cell_type": "markdown",
   "id": "d5614fc2-59bc-40ee-a92a-0cfd971e1ad3",
   "metadata": {},
   "source": [
    "##### Previewing the first 50 columns of the dataset"
   ]
  },
  {
   "cell_type": "code",
   "execution_count": 6,
   "id": "0d6a3bf3-d050-4760-a48e-8b8655142c67",
   "metadata": {},
   "outputs": [
    {
     "name": "stderr",
     "output_type": "stream",
     "text": [
      "/home/kokkgoblin/miniconda3/envs/py39/lib/python3.9/site-packages/Pillow-9.1.1-py3.9-linux-x86_64.egg/PIL/Image.py:992: UserWarning: Palette images with Transparency expressed in bytes should be converted to RGBA images\n",
      "  warnings.warn(\n"
     ]
    },
    {
     "data": {
      "image/png": "[encoded data removed]",
      "text/plain": [
       "<PIL.Image.Image image mode=RGB size=800x224>"
      ]
     },
     "execution_count": 6,
     "metadata": {},
     "output_type": "execute_result"
    }
   ],
   "source": [
    "img = convert_level_to_png(dataset.input_ids[:700], TILE_DIR, mario_lm.tokenizer)[0]\n",
    "img"
   ]
  },
  {
   "cell_type": "markdown",
   "id": "28a7e683-a9a2-4321-b21a-807daf7aa744",
   "metadata": {},
   "source": [
    "#### Set device"
   ]
  },
  {
   "cell_type": "code",
   "execution_count": 7,
   "id": "7a6f684a-63a9-4a34-9a57-fd6aa84375a0",
   "metadata": {},
   "outputs": [],
   "source": [
    "device = torch.device('cuda')\n",
    "mario_lm = mario_lm.to(device)"
   ]
  },
  {
   "cell_type": "markdown",
   "id": "3869772f-e3a6-43d4-94ee-40364028bea8",
   "metadata": {},
   "source": [
    "## Generating Levels"
   ]
  },
  {
   "cell_type": "code",
   "execution_count": 8,
   "id": "1e7589f2-2b48-4174-9fc7-7e7de7ff3615",
   "metadata": {},
   "outputs": [],
   "source": [
    "prompts = [\"many pipes, many enemies, some blocks, high elevation\"]"
   ]
  },
  {
   "cell_type": "markdown",
   "id": "aa0a437f-4123-44b2-b08f-985f60165fb2",
   "metadata": {},
   "source": [
    "##### We generate 1399 predictions for an even 1400 output (including the input seed which is just a single block). Mario Levels have height of 14, so we generate 100 columns."
   ]
  },
  {
   "cell_type": "code",
   "execution_count": 27,
   "id": "766362fb-8b90-43a4-b405-17fed2342d31",
   "metadata": {
    "scrolled": true,
    "tags": []
   },
   "outputs": [
    {
     "name": "stderr",
     "output_type": "stream",
     "text": [
      "shape: torch.Size([1, 685]), torch.Size([1, 1400]) first: \n"
     ]
    }
   ],
   "source": [
    "generated_level = mario_lm.sample(\n",
    "    prompts=prompts,\n",
    "    num_steps=1399,\n",
    "    temperature=2.0,\n",
    "    use_tqdm=True\n",
    ")"
   ]
  },
  {
   "cell_type": "code",
   "execution_count": 28,
   "id": "777f94cf-a765-4f7a-a7b4-223c29680e17",
   "metadata": {},
   "outputs": [
    {
     "data": {
      "image/png": "[encoded data removed]",
      "text/plain": [
       "<PIL.Image.Image image mode=RGB size=1600x224>"
      ]
     },
     "execution_count": 28,
     "metadata": {},
     "output_type": "execute_result"
    }
   ],
   "source": [
    "img = convert_level_to_png(generated_level.squeeze(), TILE_DIR, mario_lm.tokenizer)[0]\n",
    "img"
   ]
  },
  {
   "cell_type": "markdown",
   "id": "7233c86a-eb02-48cb-8369-bb8a521bc330",
   "metadata": {
    "tags": []
   },
   "source": [
    "#### Check if the model generated the correct level\n",
    "##### Because of the stochastic nature of the model and the small training dataset, the model may generate levels that do not completely match the given prompt"
   ]
  },
  {
   "cell_type": "code",
   "execution_count": 29,
   "id": "d3489875-e648-4c75-97f0-7ae55dc51b81",
   "metadata": {},
   "outputs": [
    {
     "data": {
      "text/plain": [
       "'some pipes, many enemies, some blocks, high elevation'"
      ]
     },
     "execution_count": 29,
     "metadata": {},
     "output_type": "execute_result"
    }
   ],
   "source": [
    "mario_lm.prompter(generated_level)[0]"
   ]
  }
 ],
 "metadata": {
  "kernelspec": {
   "display_name": "Python [conda env:py39] *",
   "language": "python",
   "name": "conda-env-py39-py"
  },
  "language_info": {
   "codemirror_mode": {
    "name": "ipython",
    "version": 3
   },
   "file_extension": ".py",
   "mimetype": "text/x-python",
   "name": "python",
   "nbconvert_exporter": "python",
   "pygments_lexer": "ipython3",
   "version": "3.9.0"
  }
 },
 "nbformat": 4,
 "nbformat_minor": 5
}
