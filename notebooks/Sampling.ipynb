{
 "cells": [
  {
   "cell_type": "markdown",
   "id": "79dde41a",
   "metadata": {},
   "source": [
    "## Load Stuff"
   ]
  },
  {
   "cell_type": "code",
   "execution_count": 1,
   "id": "4eaf9f86",
   "metadata": {},
   "outputs": [],
   "source": [
    "import torch\n",
    "from mario_gpt import MarioDataset, MarioLM\n",
    "from mario_gpt.utils import view_level, convert_level_to_png, join_list_of_list, characterize"
   ]
  },
  {
   "cell_type": "markdown",
   "id": "d81d227f",
   "metadata": {},
   "source": [
    "### Load Model"
   ]
  },
  {
   "cell_type": "code",
   "execution_count": 2,
   "id": "1071022d",
   "metadata": {},
   "outputs": [
    {
     "name": "stdout",
     "output_type": "stream",
     "text": [
      "Using shyamsn97/Mario-GPT2-700-context-length model\n"
     ]
    },
    {
     "name": "stderr",
     "output_type": "stream",
     "text": [
      "/home/kokkgoblin/miniconda3/envs/py39/lib/python3.9/site-packages/transformers/models/auto/modeling_auto.py:1177: FutureWarning: The class `AutoModelWithLMHead` is deprecated and will be removed in a future version. Please use `AutoModelForCausalLM` for causal language models, `AutoModelForMaskedLM` for masked language models and `AutoModelForSeq2SeqLM` for encoder-decoder models.\n",
      "  warnings.warn(\n"
     ]
    },
    {
     "name": "stdout",
     "output_type": "stream",
     "text": [
      "Using shyamsn97/Mario-GPT2-700-context-length tokenizer\n"
     ]
    }
   ],
   "source": [
    "mario_lm = MarioLM()"
   ]
  },
  {
   "cell_type": "markdown",
   "id": "1add400f",
   "metadata": {},
   "source": [
    "### Load Dataset (Optional)"
   ]
  },
  {
   "cell_type": "code",
   "execution_count": 3,
   "id": "385dce49",
   "metadata": {},
   "outputs": [
    {
     "name": "stdout",
     "output_type": "stream",
     "text": [
      "No level string specified, using default string FULL_LEVEL_STR_WITH_PATHS...\n",
      "\n",
      "\n",
      "\n"
     ]
    },
    {
     "name": "stderr",
     "output_type": "stream",
     "text": [
      "Token indices sequence length is longer than the specified maximum sequence length for this model (102116 > 1024). Running this sequence through the model will result in indexing errors\n"
     ]
    }
   ],
   "source": [
    "dataset = MarioDataset(mario_lm.tokenizer)"
   ]
  },
  {
   "cell_type": "markdown",
   "id": "8060b333",
   "metadata": {},
   "source": [
    "#### View string representation of level"
   ]
  },
  {
   "cell_type": "code",
   "execution_count": 4,
   "id": "5bf345f3",
   "metadata": {},
   "outputs": [
    {
     "data": {
      "text/plain": [
       "['--------------------------------------------------Y',\n",
       " '--------------------------------------------------Y',\n",
       " '--------------------------------------------------Y',\n",
       " '--------------------------------------------------Y',\n",
       " '-------------------------------------------------oY',\n",
       " '--------XSSSSS---------------------------------SSSY',\n",
       " '--------X-----------------------------------------Y',\n",
       " '--------X-----------------------------------------Y',\n",
       " '-------EX--E-X---------------xxxx-?-----------xxxxY',\n",
       " '--------XSS?SX---QQ?QQ------xx<>-x-----------xx--?Y',\n",
       " '---------------------------xx-[]--x---------xx----Y',\n",
       " '--------------------------xx--[]---x-------xx-----Y',\n",
       " 'xxxxxxxxxxxxxxxxxxxxxxxxxxx---[]----xxxxxxxx------Y',\n",
       " 'XXXXXXXXXXXXXXXXXXXXXXXXXXXXXXXXXXXXXXXXXXXX---XXXX']"
      ]
     },
     "execution_count": 4,
     "metadata": {},
     "output_type": "execute_result"
    }
   ],
   "source": [
    "view_level(dataset.input_ids[:701], mario_lm.tokenizer)"
   ]
  },
  {
   "cell_type": "markdown",
   "id": "b7a1c025",
   "metadata": {},
   "source": [
    "#### Image"
   ]
  },
  {
   "cell_type": "markdown",
   "id": "d7dde246",
   "metadata": {
    "tags": []
   },
   "source": [
    "##### Previewing the first 50 columns of the dataset"
   ]
  },
  {
   "cell_type": "code",
   "execution_count": 5,
   "id": "9523d94f",
   "metadata": {},
   "outputs": [
    {
     "name": "stderr",
     "output_type": "stream",
     "text": [
      "/home/kokkgoblin/miniconda3/envs/py39/lib/python3.9/site-packages/Pillow-9.1.1-py3.9-linux-x86_64.egg/PIL/Image.py:992: UserWarning: Palette images with Transparency expressed in bytes should be converted to RGBA images\n",
      "  warnings.warn(\n"
     ]
    },
    {
     "data": {
      "image/png": "[encoded data removed]",
      "text/plain": [
       "<PIL.Image.Image image mode=RGB size=800x224>"
      ]
     },
     "execution_count": 5,
     "metadata": {},
     "output_type": "execute_result"
    }
   ],
   "source": [
    "img = convert_level_to_png(dataset.input_ids[:700],  mario_lm.tokenizer)[0]\n",
    "img"
   ]
  },
  {
   "cell_type": "markdown",
   "id": "8a8e58c0",
   "metadata": {},
   "source": [
    "#### Set device"
   ]
  },
  {
   "cell_type": "code",
   "execution_count": 6,
   "id": "17cabd46",
   "metadata": {},
   "outputs": [],
   "source": [
    "device = torch.device('cuda')\n",
    "mario_lm = mario_lm.to(device)"
   ]
  },
  {
   "cell_type": "markdown",
   "id": "a8fad057",
   "metadata": {},
   "source": [
    "## Generating Levels"
   ]
  },
  {
   "cell_type": "code",
   "execution_count": 45,
   "id": "927bfdad",
   "metadata": {},
   "outputs": [],
   "source": [
    "prompts = [\"many pipes, many enemies, some blocks, high elevation\"]"
   ]
  },
  {
   "cell_type": "markdown",
   "id": "868ba3b2",
   "metadata": {},
   "source": [
    "##### We generate 1399 predictions for an even 1400 output (including the input seed which is just a single block). Mario Levels have height of 14, so we generate 100 columns. You don't have to worry about perfect dimensions, we'll trim the remainder for you!"
   ]
  },
  {
   "cell_type": "code",
   "execution_count": 53,
   "id": "89bd5137",
   "metadata": {
    "scrolled": true,
    "tags": []
   },
   "outputs": [
    {
     "name": "stderr",
     "output_type": "stream",
     "text": [
      "shape: torch.Size([1, 672]), torch.Size([1, 1401]) first: 56, last: 56: 100%|█████| 1400/1400 [00:24<00:00, 56.47it/s]\n"
     ]
    }
   ],
   "source": [
    "generated_level = mario_lm.sample(\n",
    "    prompts=prompts,\n",
    "    num_steps=1400,\n",
    "    temperature=2.0,\n",
    "    use_tqdm=True\n",
    ")"
   ]
  },
  {
   "cell_type": "code",
   "execution_count": 54,
   "id": "9d836351",
   "metadata": {},
   "outputs": [
    {
     "data": {
      "image/png": "[encoded data removed]",
      "text/plain": [
       "<PIL.Image.Image image mode=RGB size=1600x224>"
      ]
     },
     "execution_count": 54,
     "metadata": {},
     "output_type": "execute_result"
    }
   ],
   "source": [
    "generated_level.img"
   ]
  },
  {
   "cell_type": "markdown",
   "id": "610b3f66",
   "metadata": {
    "tags": []
   },
   "source": [
    "#### Check if the model generated the correct level\n",
    "##### Because of the stochastic nature of the model and the small training dataset, the model may generate levels that do not completely match the given prompt"
   ]
  },
  {
   "cell_type": "code",
   "execution_count": 56,
   "id": "d18d6097",
   "metadata": {},
   "outputs": [
    {
     "data": {
      "text/plain": [
       "'many pipes, many enemies, some blocks, high elevation'"
      ]
     },
     "execution_count": 56,
     "metadata": {},
     "output_type": "execute_result"
    }
   ],
   "source": [
    "generated_level.prompt"
   ]
  },
  {
   "cell_type": "markdown",
   "id": "12dc4d7f",
   "metadata": {},
   "source": [
    "## Play Levels Interactively"
   ]
  },
  {
   "cell_type": "code",
   "execution_count": 57,
   "id": "4911db5e",
   "metadata": {},
   "outputs": [
    {
     "name": "stdout",
     "output_type": "stream",
     "text": [
      "Playing level interactively -- /tmp/tmpzy9m5ys7.txt!\n",
      "huggingface/tokenizers: The current process just got forked, after parallelism has already been used. Disabling parallelism to avoid deadlocks...\n",
      "To disable this warning, you can either:\n",
      "\t- Avoid using `tokenizers` before the fork if possible\n",
      "\t- Explicitly set the environment variable TOKENIZERS_PARALLELISM=(true | false)\n"
     ]
    },
    {
     "name": "stderr",
     "output_type": "stream",
     "text": [
      "\n",
      "KeyboardInterrupt\n",
      "\n"
     ]
    }
   ],
   "source": [
    "generated_level.play()"
   ]
  },
  {
   "cell_type": "markdown",
   "id": "08136c89",
   "metadata": {},
   "source": [
    "## Run Astar Agent"
   ]
  },
  {
   "cell_type": "code",
   "execution_count": 58,
   "id": "fa6edf15",
   "metadata": {},
   "outputs": [
    {
     "name": "stdout",
     "output_type": "stream",
     "text": [
      "Running Astar agent on level! -- /tmp/tmpck_qbx1c.txt\n",
      "huggingface/tokenizers: The current process just got forked, after parallelism has already been used. Disabling parallelism to avoid deadlocks...\n",
      "To disable this warning, you can either:\n",
      "\t- Avoid using `tokenizers` before the fork if possible\n",
      "\t- Explicitly set the environment variable TOKENIZERS_PARALLELISM=(true | false)\n"
     ]
    }
   ],
   "source": [
    "generated_level.run_astar()"
   ]
  },
  {
   "cell_type": "markdown",
   "id": "3abff079-ed2a-4253-85d2-d248ae779e8c",
   "metadata": {
    "tags": []
   },
   "source": [
    "## Batch multiple prompts"
   ]
  },
  {
   "cell_type": "code",
   "execution_count": 72,
   "id": "bd12d26f-f153-40c6-947f-0d9f700168b0",
   "metadata": {},
   "outputs": [
    {
     "name": "stderr",
     "output_type": "stream",
     "text": [
      "shape: torch.Size([3, 672]), torch.Size([3, 1401]) first: 56, last: 13: 100%|█████| 1400/1400 [01:01<00:00, 22.84it/s]\n"
     ]
    }
   ],
   "source": [
    "prompts = [\"no pipes, many enemies, some blocks, high elevation\", \"many pipes, no enemies, many blocks, high elevation\", \"many pipes, many enemies, little blocks, low elevation\"]\n",
    "\n",
    "generated_levels = mario_lm.sample(\n",
    "    prompts=prompts,\n",
    "    num_steps=1400,\n",
    "    temperature=2.0,\n",
    "    use_tqdm=True\n",
    ")"
   ]
  },
  {
   "cell_type": "code",
   "execution_count": 73,
   "id": "27f0e1b8-1495-4c68-8163-479436c0d17d",
   "metadata": {},
   "outputs": [
    {
     "data": {
      "image/png": "[encoded data removed]",
      "text/plain": [
       "<PIL.Image.Image image mode=RGB size=1600x224>"
      ]
     },
     "execution_count": 73,
     "metadata": {},
     "output_type": "execute_result"
    }
   ],
   "source": [
    "generated_levels[0].img"
   ]
  },
  {
   "cell_type": "code",
   "execution_count": 74,
   "id": "25d08df4-029e-43a3-ac73-bfc4c595dee8",
   "metadata": {},
   "outputs": [
    {
     "data": {
      "image/png": "[encoded data removed]",
      "text/plain": [
       "<PIL.Image.Image image mode=RGB size=1600x224>"
      ]
     },
     "execution_count": 74,
     "metadata": {},
     "output_type": "execute_result"
    }
   ],
   "source": [
    "generated_levels[1].img"
   ]
  },
  {
   "cell_type": "code",
   "execution_count": 75,
   "id": "589b0df3-d504-4a33-899c-eea2780d126a",
   "metadata": {},
   "outputs": [
    {
     "data": {
      "image/png": "[encoded data removed]",
      "text/plain": [
       "<PIL.Image.Image image mode=RGB size=1600x224>"
      ]
     },
     "execution_count": 75,
     "metadata": {},
     "output_type": "execute_result"
    }
   ],
   "source": [
    "generated_levels[2].img"
   ]
  },
  {
   "cell_type": "markdown",
   "id": "62768f31-c6bd-4b23-a346-877785ad8e2f",
   "metadata": {},
   "source": [
    "### Generate Timelapses"
   ]
  },
  {
   "cell_type": "code",
   "execution_count": 76,
   "id": "efacb8ef-d006-4977-b366-2ddfab67a95b",
   "metadata": {},
   "outputs": [],
   "source": [
    "from mario_gpt.utils import generate_timelapse"
   ]
  },
  {
   "cell_type": "code",
   "execution_count": 79,
   "id": "a6224014-045b-495b-b214-fb433dd9df3c",
   "metadata": {},
   "outputs": [],
   "source": [
    "timelapse_0 = generate_timelapse(generated_levels[0].level_tensor, mario_lm)"
   ]
  },
  {
   "cell_type": "code",
   "execution_count": 80,
   "id": "e66c97cf-5115-48ef-84c5-fba6fd618bc1",
   "metadata": {},
   "outputs": [],
   "source": [
    "timelapse_1 = generate_timelapse(generated_levels[1].level_tensor, mario_lm)"
   ]
  },
  {
   "cell_type": "code",
   "execution_count": 81,
   "id": "dc1c293a-6cf9-42ca-bb9c-2b3e28e12064",
   "metadata": {},
   "outputs": [],
   "source": [
    "timelapse_2 = generate_timelapse(generated_levels[2].level_tensor, mario_lm)"
   ]
  },
  {
   "cell_type": "code",
   "execution_count": 82,
   "id": "1fc549b9-7309-4429-905c-7d5e59cc8297",
   "metadata": {},
   "outputs": [],
   "source": [
    "# save\n",
    "# import imageio\n",
    "# imageio.mimsave('timelapse_0.gif',timelapse_0,fps=60)"
   ]
  }
 ],
 "metadata": {
  "kernelspec": {
   "display_name": "Python [conda env:py39] *",
   "language": "python",
   "name": "conda-env-py39-py"
  },
  "language_info": {
   "codemirror_mode": {
    "name": "ipython",
    "version": 3
   },
   "file_extension": ".py",
   "mimetype": "text/x-python",
   "name": "python",
   "nbconvert_exporter": "python",
   "pygments_lexer": "ipython3",
   "version": "3.9.0"
  }
 },
 "nbformat": 4,
 "nbformat_minor": 5
}
